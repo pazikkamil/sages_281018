{
 "cells": [
  {
   "cell_type": "markdown",
   "metadata": {},
   "source": [
    "# Sql in Python\n",
    "___\n",
    "Author: Kamil Pazik\n",
    "\n",
    "email: pazik.kamil@gmail.com\n",
    "\n",
    "phone: +48 721 114 737"
   ]
  },
  {
   "cell_type": "markdown",
   "metadata": {},
   "source": [
    "## TOC\n",
    "1. [Refresher of OOP](#Refresher-oop)\n",
    "2. [Ways of connecting Python with databases](#Ways-of-connecting-Python-with-databases)\n",
    "3. [Installing prerequisites](#Installing-prerequisites)\n",
    "4. [Orm](#Orm)\n",
    "5. [Data models](#Data-models)\n",
    "  1. [Exercises](#Data-models-exercises)\n",
    "7. [Quering and data manipulations](#Quering-and-data-manipulations)\n",
    "8. [Simple exploratory data analysis](#Simple-exploratory-data-analysis)"
   ]
  },
  {
   "cell_type": "markdown",
   "metadata": {},
   "source": [
    "### Refresher-oop\n",
    "\n",
    "* What is class ? why we need oop ?\n",
    "* What is instance/object ?\n",
    "* What are methods / attributes / properties ?\n",
    "* What are staticmethod / classmethod ?"
   ]
  },
  {
   "cell_type": "markdown",
   "metadata": {},
   "source": [
    "### Ways of connecting Python with databases\n",
    "* Directly using specific libs [sqlite](https://docs.python.org/3/library/sqlite3.html), [psycopg2](http://initd.org/psycopg/docs/)\n",
    "* Using ORM like [sqllachemy](https://www.sqlalchemy.org/)\n",
    "* Using pandas "
   ]
  },
  {
   "cell_type": "markdown",
   "metadata": {},
   "source": [
    "### Installing prerequisites\n",
    "\n",
    "* Database tool - [Dbeaver](https://dbeaver.io/)\n",
    "* Sqlalchemy with pyscopg2\n",
    "  ```bash\n",
    "  conda install sqlalchemy\n",
    "  conda install psycopg2\n",
    "  ```\n",
    "* Installation of postgres (your linux machine)\n",
    "  ```bash\n",
    "  sudo apt-get update\n",
    "  sudo apt-get install postgresql postgresql-contrib\n",
    "  ```\n",
    "  after installation\n",
    "  ```bash\n",
    "  su - postgres\n",
    "  psql -d template1 -c \"ALTER USER postgres WITH PASSWORD 'postgres';\"\n",
    "  ```"
   ]
  },
  {
   "cell_type": "markdown",
   "metadata": {},
   "source": [
    "### Orm\n",
    "* Object relational mapping,\n",
    "* Maps data between systems (Python classes to database tables)"
   ]
  },
  {
   "cell_type": "markdown",
   "metadata": {},
   "source": [
    "### Data models"
   ]
  },
  {
   "cell_type": "code",
   "execution_count": null,
   "metadata": {},
   "outputs": [],
   "source": []
  }
 ],
 "metadata": {
  "kernelspec": {
   "display_name": "Python 3",
   "language": "python",
   "name": "python3"
  },
  "language_info": {
   "codemirror_mode": {
    "name": "ipython",
    "version": 3
   },
   "file_extension": ".py",
   "mimetype": "text/x-python",
   "name": "python",
   "nbconvert_exporter": "python",
   "pygments_lexer": "ipython3",
   "version": "3.7.0"
  }
 },
 "nbformat": 4,
 "nbformat_minor": 2
}
