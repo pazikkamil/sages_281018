{
 "cells": [
  {
   "cell_type": "markdown",
   "metadata": {},
   "source": [
    "# Sql in Python\n",
    "___\n",
    "Author: Kamil Pazik\n",
    "\n",
    "email: pazik.kamil@gmail.com\n",
    "\n",
    "phone: +48 721 114 737"
   ]
  },
  {
   "cell_type": "markdown",
   "metadata": {},
   "source": [
    "## TOC\n",
    "1. [Refresher of OOP](#Refresher-oop)\n",
    "2. [Ways of connecting Python with databases](#Ways-of-connecting-Python-with-databases)\n",
    "3. [Installing prerequisites](#Installing-prerequisites)\n",
    "4. [Direct connect](#Direct-connect)\n",
    "5. [Orm](#Orm)\n",
    "6. [Data models](#Data-models)\n",
    "  1. [Exercises](#Data-models-exercises)\n",
    "7. [Quering and data manipulations](#Quering-and-data-manipulations)\n",
    "8. [Simple exploratory data analysis](#Simple-exploratory-data-analysis)"
   ]
  },
  {
   "cell_type": "markdown",
   "metadata": {},
   "source": [
    "### Refresher-oop\n",
    "\n",
    "* What is class ? why we need oop ?\n",
    "* What is instance/object ?\n",
    "* What are methods / attributes / properties ?\n",
    "* What are staticmethod / classmethod ?"
   ]
  },
  {
   "cell_type": "markdown",
   "metadata": {},
   "source": [
    "### Ways of connecting Python with databases\n",
    "* Directly using specific libs [sqlite](https://docs.python.org/3/library/sqlite3.html), [psycopg2](http://initd.org/psycopg/docs/)\n",
    "* Using ORM like [sqllachemy](https://www.sqlalchemy.org/)\n",
    "* Using pandas "
   ]
  },
  {
   "cell_type": "markdown",
   "metadata": {},
   "source": [
    "### Installing prerequisites\n",
    "\n",
    "* Database tool - [Dbeaver](https://dbeaver.io/)\n",
    "* Sqlalchemy with pyscopg2\n",
    "  ```bash\n",
    "  conda install sqlalchemy\n",
    "  conda install psycopg2\n",
    "  ```\n",
    "  or from jupyter-notebook\n",
    "  ```python\n",
    "  !pip install psycopg2\n",
    "  ```\n",
    "* Installation of postgres (your linux machine)\n",
    "  ```bash\n",
    "  sudo apt-get update\n",
    "  sudo apt-get install postgresql postgresql-contrib\n",
    "  ```\n",
    "  after installation\n",
    "  ```bash\n",
    "  su - postgres\n",
    "  psql -d template1 -c \"ALTER USER postgres WITH PASSWORD 'postgres';\"\n",
    "  ```"
   ]
  },
  {
   "cell_type": "markdown",
   "metadata": {},
   "source": [
    "### Direct connect"
   ]
  },
  {
   "cell_type": "code",
   "execution_count": 29,
   "metadata": {},
   "outputs": [
    {
     "data": {
      "text/plain": [
       "[('postgres',)]"
      ]
     },
     "execution_count": 29,
     "metadata": {},
     "output_type": "execute_result"
    }
   ],
   "source": [
    "import psycopg2\n",
    "\n",
    "conn = psycopg2.connect(\"host=127.0.0.1 port=5432 dbname=postgres user=postgres password=postgres\")\n",
    "cur = conn.cursor()\n",
    "\n",
    "cur.execute(\"SELECT * FROM user\")\n",
    "cur.fetchall()"
   ]
  },
  {
   "cell_type": "code",
   "execution_count": 44,
   "metadata": {},
   "outputs": [],
   "source": [
    "cur.execute(\"CREATE TABLE test (id serial PRIMARY KEY, num integer, data varchar);\")"
   ]
  },
  {
   "cell_type": "code",
   "execution_count": 45,
   "metadata": {},
   "outputs": [],
   "source": [
    "conn.commit()"
   ]
  },
  {
   "cell_type": "code",
   "execution_count": 25,
   "metadata": {},
   "outputs": [],
   "source": [
    "cur.execute(\"INSERT INTO test(num, data) values(1, 'test data');\")"
   ]
  },
  {
   "cell_type": "code",
   "execution_count": 46,
   "metadata": {},
   "outputs": [
    {
     "data": {
      "text/plain": [
       "[]"
      ]
     },
     "execution_count": 46,
     "metadata": {},
     "output_type": "execute_result"
    }
   ],
   "source": [
    "cur.execute(\"SELECT * FROM test\")\n",
    "cur.fetchall()"
   ]
  },
  {
   "cell_type": "code",
   "execution_count": 35,
   "metadata": {},
   "outputs": [],
   "source": [
    "# if something is wrong we can use \n",
    "# conn.rollback()"
   ]
  },
  {
   "cell_type": "code",
   "execution_count": 36,
   "metadata": {},
   "outputs": [
    {
     "data": {
      "text/plain": [
       "[]"
      ]
     },
     "execution_count": 36,
     "metadata": {},
     "output_type": "execute_result"
    }
   ],
   "source": [
    "cur.execute(\"SELECT * FROM test\")\n",
    "cur.fetchall()"
   ]
  },
  {
   "cell_type": "code",
   "execution_count": 28,
   "metadata": {},
   "outputs": [],
   "source": [
    "cur.close()\n",
    "conn.close()"
   ]
  },
  {
   "cell_type": "markdown",
   "metadata": {},
   "source": [
    "### Orm\n",
    "* Object relational mapping,\n",
    "* Maps data between systems (Python classes to database tables)"
   ]
  },
  {
   "cell_type": "markdown",
   "metadata": {},
   "source": [
    "### Data models"
   ]
  },
  {
   "cell_type": "code",
   "execution_count": 1,
   "metadata": {},
   "outputs": [
    {
     "name": "stderr",
     "output_type": "stream",
     "text": [
      "/home/kamil/.local/lib/python3.7/site-packages/psycopg2/__init__.py:144: UserWarning: The psycopg2 wheel package will be renamed from release 2.8; in order to keep installing from binary please use \"pip install psycopg2-binary\" instead. For details see: <http://initd.org/psycopg/docs/install.html#binary-install-from-pypi>.\n",
      "  \"\"\")\n"
     ]
    }
   ],
   "source": [
    "import psycopg2"
   ]
  },
  {
   "cell_type": "code",
   "execution_count": 8,
   "metadata": {},
   "outputs": [
    {
     "ename": "ModuleNotFoundError",
     "evalue": "No module named 'psycopg2'",
     "output_type": "error",
     "traceback": [
      "\u001b[0;31m---------------------------------------------------------------------------\u001b[0m",
      "\u001b[0;31mModuleNotFoundError\u001b[0m                       Traceback (most recent call last)",
      "\u001b[0;32m<ipython-input-8-bac1dc37e7a1>\u001b[0m in \u001b[0;36m<module>\u001b[0;34m()\u001b[0m\n\u001b[1;32m      1\u001b[0m \u001b[0;34m\u001b[0m\u001b[0m\n\u001b[0;32m----> 2\u001b[0;31m \u001b[0;32mimport\u001b[0m \u001b[0mpsycopg2\u001b[0m\u001b[0;34m\u001b[0m\u001b[0m\n\u001b[0m\u001b[1;32m      3\u001b[0m \u001b[0mconn\u001b[0m \u001b[0;34m=\u001b[0m \u001b[0mpsycopg2\u001b[0m\u001b[0;34m.\u001b[0m\u001b[0mconnect\u001b[0m\u001b[0;34m(\u001b[0m\u001b[0;34m\"dbname=dq user=dq\"\u001b[0m\u001b[0;34m)\u001b[0m\u001b[0;34m\u001b[0m\u001b[0m\n\u001b[1;32m      4\u001b[0m \u001b[0mcur\u001b[0m \u001b[0;34m=\u001b[0m \u001b[0mconn\u001b[0m\u001b[0;34m.\u001b[0m\u001b[0mcursor\u001b[0m\u001b[0;34m(\u001b[0m\u001b[0;34m)\u001b[0m\u001b[0;34m\u001b[0m\u001b[0m\n\u001b[1;32m      5\u001b[0m \u001b[0mcur\u001b[0m\u001b[0;34m.\u001b[0m\u001b[0mexecute\u001b[0m\u001b[0;34m(\u001b[0m\u001b[0;34m'SELECT * FROM users LIMIT 0'\u001b[0m\u001b[0;34m)\u001b[0m\u001b[0;34m\u001b[0m\u001b[0m\n",
      "\u001b[0;31mModuleNotFoundError\u001b[0m: No module named 'psycopg2'"
     ]
    }
   ],
   "source": [
    "\n",
    "import psycopg2\n",
    "conn = psycopg2.connect(\"dbname=dq user=dq\")\n",
    "cur = conn.cursor()\n",
    "cur.execute('SELECT * FROM users LIMIT 0')"
   ]
  },
  {
   "cell_type": "code",
   "execution_count": null,
   "metadata": {},
   "outputs": [],
   "source": []
  }
 ],
 "metadata": {
  "kernelspec": {
   "display_name": "Python 3",
   "language": "python",
   "name": "python3"
  },
  "language_info": {
   "codemirror_mode": {
    "name": "ipython",
    "version": 3
   },
   "file_extension": ".py",
   "mimetype": "text/x-python",
   "name": "python",
   "nbconvert_exporter": "python",
   "pygments_lexer": "ipython3",
   "version": "3.7.0"
  }
 },
 "nbformat": 4,
 "nbformat_minor": 2
}
